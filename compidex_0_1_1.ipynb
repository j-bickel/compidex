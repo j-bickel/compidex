{
 "cells": [
  {
   "cell_type": "code",
   "execution_count": 6,
   "metadata": {},
   "outputs": [],
   "source": [
    "#!/usr/bin/env python\n",
    "\n",
    "__author__ = 'Jonas Bickel'\n",
    "__copyright__ = 'Copyright 2019'\n",
    "__license__ = 'GNU GPLv3'\n",
    "__version__ = '0.0.1'\n",
    "__email__ = 'jonas.bickel@t-online.de'\n",
    "__status__ = \"Development\"\n",
    "\n",
    "import numpy as np\n",
    "import pandas as pd\n",
    "import matplotlib.pyplot as plt\n",
    "import math"
   ]
  },
  {
   "cell_type": "code",
   "execution_count": 7,
   "metadata": {},
   "outputs": [],
   "source": [
    "index_name = 'test' # Required for module 1\n",
    "base_value = 100\n",
    "\n",
    "start_date = 200 #(1 * 252)\n",
    "end_date = (-200)\n",
    "\n",
    "### Inactive variables for later updates\n",
    "base_date = None\n",
    "index_composition_matrix = None\n",
    "number_stocks = 0\n",
    "included_number_stocks = 0\n",
    "###"
   ]
  },
  {
   "cell_type": "code",
   "execution_count": 8,
   "metadata": {},
   "outputs": [],
   "source": [
    "# Module 1\n",
    "# Create price data matrix from Yahoo! Finance Data and adding market capitalization\n",
    "\n",
    "def create_index_composition_matrix(folder_name=index_name, add_market_cap_col=True):\n",
    "    ''' Create list object (called 'index_composition_matrix') containing stocks defined in list_stocks.csv \n",
    "    and their respective pricing data as DataFrames'''\n",
    "    \n",
    "    # 1. Define file locations\n",
    "    loc_main_folder = folder_name\n",
    "    loc_list_stocks = loc_main_folder + '/list_stocks.csv'\n",
    "    loc_list_shares_outstanding = loc_main_folder + '/list_shares_outstanding.csv'\n",
    "    loc_stock_data = loc_main_folder + '/stock_data/'\n",
    "    \n",
    "    # 2. Create a list of stock symbols defined in the list_stock.csv file\n",
    "    global index_components\n",
    "    index_components = pd.read_csv(loc_list_stocks, header=None)\n",
    "    index_components = index_components.values.T[0].tolist()\n",
    "    \n",
    "    # 3. Create a list of shares outstanding defined in the list_shares_outstanding.csv file\n",
    "    global shares_outstanding\n",
    "    shares_outstanding = pd.read_csv(loc_list_shares_outstanding, header=None)\n",
    "    shares_outstanding = shares_outstanding.values.T[0].tolist()\n",
    "    \n",
    "    # 4. Check sums\n",
    "    if len(shares_outstanding) != len(index_components):\n",
    "        print(\"Number of entries in list_stocks.csv and list_shares_outstanding.csv is not equal.\")\n",
    "        \n",
    "    # For index calculation\n",
    "    global number_stocks\n",
    "    number_stocks = len(index_components)\n",
    "\n",
    "    # 5. Create list object with index components via Yahoo! Finance CSV files        \n",
    "    global index_composition_matrix\n",
    "    index_composition_matrix = list()\n",
    "    \n",
    "    for i in index_components:\n",
    "        index_composition_matrix.append(pd.read_csv(loc_stock_data+i.upper().replace(\"_\",\".\")+\".csv\", na_values = \"null\", parse_dates = [\"Date\"]))\n",
    "   \n",
    "    # 6. Create column for index_composition_matrix[i] calculating the market cap for each day\n",
    "    if add_market_cap_col:\n",
    "        for i in range(len(index_composition_matrix)):\n",
    "            for j in range(len(shares_outstanding)):\n",
    "                index_composition_matrix[i]['Market Cap'] = shares_outstanding[i] * index_composition_matrix[i]['Adj Close']\n",
    "    \n",
    "    return index_composition_matrix, number_stocks\n",
    "\n"
   ]
  },
  {
   "cell_type": "code",
   "execution_count": 9,
   "metadata": {},
   "outputs": [],
   "source": [
    "# Module 2\n",
    "# Calculate return\n",
    "\n",
    "def calc_performance():\n",
    "    ''' Calculate returns of individual stocks and add it to DataFrames.\n",
    "    '''\n",
    "    for i in range(len(index_composition_matrix)):\n",
    "        index_composition_matrix[i]['Return'] = index_composition_matrix[i]['Adj Close'].pct_change(1)\n",
    "        # Null to 0,00\n",
    "        index_composition_matrix[i] = index_composition_matrix[i].fillna(0)    \n",
    "    return index_composition_matrix\n",
    "\n",
    "# Calculate cumulative returns\n",
    "def calc_cum_performance():\n",
    "    ''' Calculate cumulative returns of individual stocks and add it to DataFrames.\n",
    "    '''\n",
    "    for i in range(len(index_composition_matrix)):\n",
    "        index_composition_matrix[i]['Cumulative Return'] = np.cumprod(index_composition_matrix[i]['Return']+1)\n",
    "    return index_composition_matrix"
   ]
  },
  {
   "cell_type": "code",
   "execution_count": 10,
   "metadata": {
    "scrolled": false
   },
   "outputs": [],
   "source": [
    "create_index_composition_matrix()\n",
    "\n",
    "\n",
    "#  Change observation period\n",
    "for i in range(number_stocks):\n",
    "    index_composition_matrix[i] = index_composition_matrix[i][start_date:end_date]\n",
    "\n",
    "calc_performance()\n",
    "calc_cum_performance();"
   ]
  },
  {
   "cell_type": "code",
   "execution_count": 11,
   "metadata": {
    "scrolled": true
   },
   "outputs": [],
   "source": [
    "# Module 3\n",
    "# Equally-Weighted Index (EWI)  \n",
    "# Market-Capitalization Weighted Index (MCWI)\n",
    "#Price-Weighted Index (PWI)\n",
    "# Smart Beta Index (SBI)\n",
    "\n",
    "\n",
    "returns_indexes = pd.DataFrame(0, index=index_composition_matrix[0].index, columns=['EWI', 'MCWI', 'PWI'])\n",
    "\n",
    "# EWI   \n",
    "for i in range(len(index_composition_matrix)):\n",
    "    returns_indexes['EWI'] += (index_composition_matrix[i]['Cumulative Return']) * (1/number_stocks)\n",
    "\n",
    "# MCWI\n",
    "total_market_cap = pd.Series(0, index=index_composition_matrix[0].index)\n",
    "for i in range(len(index_composition_matrix)):\n",
    "    total_market_cap += index_composition_matrix[i]['Market Cap']\n",
    "    \n",
    "for i in range(len(index_composition_matrix)):\n",
    "    returns_indexes['MCWI'] += (index_composition_matrix[i]['Cumulative Return']) * (index_composition_matrix[i]['Market Cap'] / total_market_cap)\n",
    "\n",
    "# PWI\n",
    "\n",
    "sum_prices = pd.Series(0, index=index_composition_matrix[0].index)\n",
    "for i in range(len(index_composition_matrix)):\n",
    "    sum_prices += index_composition_matrix[i]['Adj Close']\n",
    "    \n",
    "for i in range(len(index_composition_matrix)):\n",
    "    returns_indexes['PWI'] += (index_composition_matrix[i]['Cumulative Return']) * (index_composition_matrix[i]['Adj Close'] / sum_prices)\n",
    "\n",
    "####################\n",
    "# Enter own index strategy here\n"
   ]
  },
  {
   "cell_type": "code",
   "execution_count": 12,
   "metadata": {},
   "outputs": [],
   "source": [
    "returns_indexes['Date'] = index_composition_matrix[0]['Date'].copy()\n",
    "returns_indexes = returns_indexes.set_index('Date')\n",
    "values_indexes = returns_indexes.copy(deep=True) *100"
   ]
  },
  {
   "cell_type": "code",
   "execution_count": 13,
   "metadata": {
    "scrolled": true
   },
   "outputs": [
    {
     "name": "stdout",
     "output_type": "stream",
     "text": [
      "\u001b[1m\n",
      "Annualized Returns:\n",
      "\u001b[0mEWI     0.348644\n",
      "MCWI    0.409611\n",
      "PWI     0.379551\n",
      "dtype: float64\n",
      "\u001b[1m\n",
      "Annualized Standard Deviations:\n",
      "\u001b[0mEWI     0.343373\n",
      "MCWI    0.367443\n",
      "PWI     0.353701\n",
      "dtype: float64\n",
      "\u001b[1m\n",
      "Annualized Sharpe-Ratio:\n",
      "\u001b[0mEWI     1.015351\n",
      "MCWI    1.114762\n",
      "PWI     1.073083\n",
      "dtype: float64\n"
     ]
    },
    {
     "data": {
      "text/plain": [
       "<Figure size 2880x2160 with 0 Axes>"
      ]
     },
     "metadata": {},
     "output_type": "display_data"
    },
    {
     "data": {
      "image/png": "[encoded data removed]",
      "text/plain": [
       "<Figure size 432x288 with 1 Axes>"
      ]
     },
     "metadata": {
      "needs_background": "light"
     },
     "output_type": "display_data"
    }
   ],
   "source": [
    "# Analysis\n",
    "\n",
    "plt.figure(figsize=(40,30))\n",
    "values_indexes.plot(y=['EWI','MCWI', 'PWI'], linewidth=.3)\n",
    "\n",
    "plt.title(index_name)\n",
    "plt.xlabel('Date')\n",
    "plt.ylabel('Value')\n",
    "#plt.legend(['Equally-Weighted','Cap-Weighted', 'Smart Beta','Smart Beta Var'])\n",
    "plt.savefig('figure.pdf')\n",
    "\n",
    "mean = np.mean(values_indexes.pct_change(252))\n",
    "std = np.std(values_indexes.pct_change(252))\n",
    "print('\\033[1m' + '\\nAnnualized Returns:\\n' + '\\033[0m' + str(mean))\n",
    "print('\\033[1m' + '\\nAnnualized Standard Deviations:\\n' + '\\033[0m' + str(std))\n",
    "print('\\033[1m' + '\\nAnnualized Sharpe-Ratio:\\n' + '\\033[0m' + str(mean/std))"
   ]
  },
  {
   "cell_type": "code",
   "execution_count": 14,
   "metadata": {},
   "outputs": [],
   "source": [
    "#values_indexes.to_csv('export.csv', sep=',')\n",
    "#returns_indexes.to_csv('export_returns.csv', sep=',')"
   ]
  }
 ],
 "metadata": {
  "kernelspec": {
   "display_name": "Python 3",
   "language": "python",
   "name": "python3"
  },
  "language_info": {
   "codemirror_mode": {
    "name": "ipython",
    "version": 3
   },
   "file_extension": ".py",
   "mimetype": "text/x-python",
   "name": "python",
   "nbconvert_exporter": "python",
   "pygments_lexer": "ipython3",
   "version": "3.7.1"
  }
 },
 "nbformat": 4,
 "nbformat_minor": 2
}
